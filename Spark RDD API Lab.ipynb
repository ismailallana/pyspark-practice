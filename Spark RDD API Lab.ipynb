{
 "cells": [
  {
   "cell_type": "markdown",
   "metadata": {},
   "source": [
    "This is the sample solution to week 5 lab coding exercises. The lab uses two input data files: *ratings.csv* and *movies.csv*.\n",
    "\n",
    "The *movies.csv* file contains movie information. Each row represents one movie, and has the following format:\n",
    "\n",
    "`movieId,title,genres`\n",
    "\n",
    "The *ratings.csv* file contains rating information. Each row represents one rating of one movie by one user, and has the following format:\n",
    "\n",
    "`userId,movieId,rating,timestamp`\n"
   ]
  },
  {
   "cell_type": "markdown",
   "metadata": {},
   "source": [
    "### Connect to Spark"
   ]
  },
  {
   "cell_type": "code",
   "execution_count": 17,
   "metadata": {},
   "outputs": [],
   "source": [
    "from pyspark import SparkConf, SparkContext\n",
    "\n",
    "spark_conf = SparkConf()\\\n",
    "        .setAppName(\"Week 5 Lecture Sample Code\")\n",
    "sc=SparkContext.getOrCreate(spark_conf) \n"
   ]
  },
  {
   "cell_type": "markdown",
   "metadata": {},
   "source": [
    "###  Q1. Find movies with no genre list\n"
   ]
  },
  {
   "cell_type": "code",
   "execution_count": 18,
   "metadata": {},
   "outputs": [
    {
     "data": {
      "text/plain": [
       "['126929', '135460', '138863', '141305', '141472', '143709', '149532']"
      ]
     },
     "execution_count": 18,
     "metadata": {},
     "output_type": "execute_result"
    }
   ],
   "source": [
    "# As only MID is needed, we do not use the csv parsing feature,\n",
    "# but simply split the row by comma and take the first item\n",
    "\n",
    "movieData = sc.textFile(\"movies.csv\")\n",
    "movieData.filter(lambda row: '(no genres listed)' in row) \\\n",
    "    .map(lambda row: row.split(\",\")[0]) \\\n",
    "    .collect()"
   ]
  },
  {
   "cell_type": "markdown",
   "metadata": {},
   "source": [
    "### Q2, the top 5 movie of genre `Documentary'"
   ]
  },
  {
   "cell_type": "code",
   "execution_count": 3,
   "metadata": {},
   "outputs": [],
   "source": [
    "# same rating extraction code as used in lecture\n",
    "def extractRating(record):\n",
    "    try:\n",
    "        userID, movieID, rating, timestamp = record.split(\",\")\n",
    "        rating = float(rating)\n",
    "        return (movieID, rating)\n",
    "    except:\n",
    "        return ()"
   ]
  },
  {
   "cell_type": "code",
   "execution_count": 4,
   "metadata": {},
   "outputs": [
    {
     "data": {
      "text/plain": [
       "[('5669', 51), ('246', 36), ('2064', 35), ('8464', 33), ('8622', 33)]"
      ]
     },
     "execution_count": 4,
     "metadata": {},
     "output_type": "execute_result"
    }
   ],
   "source": [
    "# create a list of movie ids in Documentary genre\n",
    "# To enable join, which happens between two paird RDDs \n",
    "# we add an value 1 indicating it appears once\n",
    "docMovie = movieData.filter(lambda row: 'Documentary' in row) \\\n",
    "    .map(lambda row: (row.split(\",\")[0],1))\n",
    "\n",
    "# extract rating from the rating file\n",
    "ratingData = sc.textFile(\"ratings.csv\")\n",
    "movieRatings=ratingData.map(extractRating)\n",
    "\n",
    "# join the two\n",
    "# then group based on ids, \n",
    "# and compute the lengh of value list\n",
    "doc_rating = docMovie.join(movieRatings)\n",
    "doc_rating.groupByKey() \\\n",
    "    .mapValues(len) \\\n",
    "    .sortBy(lambda r:r[1],ascending=False) \\\n",
    "    .take(5)"
   ]
  },
  {
   "cell_type": "code",
   "execution_count": 5,
   "metadata": {},
   "outputs": [
    {
     "data": {
      "text/plain": [
       "[('5669', 51), ('246', 36), ('2064', 35), ('8464', 33), ('8622', 33)]"
      ]
     },
     "execution_count": 5,
     "metadata": {},
     "output_type": "execute_result"
    }
   ],
   "source": [
    "# an alternative using reduceByKey\n",
    "\n",
    "doc_rating.reduceByKey(lambda v1, v2: (v1[0]+v2[0],0)) \\\n",
    "    .mapValues(lambda v: v[0]) \\\n",
    "    .sortBy(lambda r:r[1],ascending=False) \\\n",
    "    .take(5)\n"
   ]
  },
  {
   "cell_type": "code",
   "execution_count": 6,
   "metadata": {},
   "outputs": [
    {
     "data": {
      "text/plain": [
       "[('5669', 51), ('246', 36), ('2064', 35), ('8464', 33), ('8622', 33)]"
      ]
     },
     "execution_count": 6,
     "metadata": {},
     "output_type": "execute_result"
    }
   ],
   "source": [
    "# another alternative using countByKey\n",
    "mid_count = doc_rating.countByKey().items()\n",
    "mid_count_rdd = sc.parallelize(mid_count)\n",
    "mid_count_rdd.sortBy(lambda r:r[1],ascending=False) \\\n",
    "    .take(5)"
   ]
  },
  {
   "cell_type": "code",
   "execution_count": 7,
   "metadata": {},
   "outputs": [
    {
     "data": {
      "text/plain": [
       "[('108', (1, 2.0)), ('162', (1, 4.0))]"
      ]
     },
     "execution_count": 7,
     "metadata": {},
     "output_type": "execute_result"
    }
   ],
   "source": [
    "# inspect the element of joined RDD: (movie_id: (1, rating))\n",
    "doc_rating.take(2)"
   ]
  },
  {
   "cell_type": "markdown",
   "metadata": {},
   "source": [
    "### Q3. Find most common co-occurring genres"
   ]
  },
  {
   "cell_type": "code",
   "execution_count": 19,
   "metadata": {},
   "outputs": [],
   "source": [
    "import csv\n",
    "\"\"\"\n",
    "This module includes a few functions used in computing average rating per genre\n",
    "\"\"\"\n",
    "def getGenrePairs(record):\n",
    "    \"\"\"This function converts entries of movies.csv into ((g1,g2),1) pair for all genres \n",
    "    appearing in the row. \n",
    "    since there may be multiple genre per movie, this function returns a list of tuples\n",
    "    Args:\n",
    "        record (str): A row of CSV file, with three columns separated by comma\n",
    "    Returns:\n",
    "        The return value is a list of tuples, each tuple contains ((g1,g2), 1)\n",
    "    \"\"\"\n",
    "    for row in csv.reader([record]):\n",
    "        if len(row) != 3:\n",
    "            return []\n",
    "        genre_list = row[2].split(\"|\")\n",
    "        g = len(genre_list)\n",
    "        if g<2 : #single genre case\n",
    "            return []\n",
    "        # at least two genre case\n",
    "        results = []\n",
    "        sorted_glist = sorted(genre_list) # sort by aphabet order\n",
    "\n",
    "        for i in range(g): \n",
    "            for j in range(i+1,g): # from 1 to last\n",
    "                results.append(((sorted_glist[i],sorted_glist[j]),1))\n",
    "        return results"
   ]
  },
  {
   "cell_type": "code",
   "execution_count": 20,
   "metadata": {},
   "outputs": [
    {
     "data": {
      "text/plain": [
       "[(('Drama', 'Romance'), 1096),\n",
       " (('Comedy', 'Drama'), 1039),\n",
       " (('Drama', 'Thriller'), 1016),\n",
       " (('Comedy', 'Romance'), 892),\n",
       " (('Crime', 'Drama'), 841)]"
      ]
     },
     "execution_count": 20,
     "metadata": {},
     "output_type": "execute_result"
    }
   ],
   "source": [
    "movieData.flatMap(getGenrePairs)\\\n",
    "    .reduceByKey(lambda a,b:a+b) \\\n",
    "    .sortBy(lambda r: r[1],ascending=False).take(5)\n"
   ]
  },
  {
   "cell_type": "code",
   "execution_count": 0,
   "metadata": {},
   "outputs": [],
   "source": []
  }
 ],
 "metadata": {
  "kernelspec": {
   "display_name": "Python 3",
   "language": "python",
   "name": "python3"
  },
  "language_info": {
   "codemirror_mode": {
    "name": "ipython",
    "version": 3
   },
   "file_extension": ".py",
   "mimetype": "text/x-python",
   "name": "python",
   "nbconvert_exporter": "python",
   "pygments_lexer": "ipython3",
   "version": "3.8.8"
  }
 },
 "nbformat": 4,
 "nbformat_minor": 4
}
